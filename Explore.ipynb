{
 "cells": [
  {
   "cell_type": "code",
   "execution_count": 319,
   "metadata": {
    "collapsed": false
   },
   "outputs": [],
   "source": [
    "from keras.applications.vgg16 import VGG16\n",
    "from keras.preprocessing import image\n",
    "from keras.applications.vgg16 import preprocess_input\n",
    "from keras.layers import Input, Flatten, Dense, Convolution2D, ELU, Dropout\n",
    "from keras.models import Model, Sequential\n",
    "from keras import backend\n",
    "from keras import callbacks\n",
    "import numpy as np\n",
    "from sklearn.model_selection import train_test_split\n",
    "import pandas as pd\n",
    "import os\n",
    "import cv2\n",
    "import matplotlib.image as mpimg\n",
    "from random import shuffle\n",
    "import matplotlib.pyplot as plt\n",
    "import matplotlib.image as mpimg\n",
    "import tensorflow as tf\n",
    "import json\n",
    "%matplotlib inline"
   ]
  },
  {
   "cell_type": "code",
   "execution_count": 290,
   "metadata": {
    "collapsed": false
   },
   "outputs": [
    {
     "data": {
      "text/plain": [
       "'tf'"
      ]
     },
     "execution_count": 290,
     "metadata": {},
     "output_type": "execute_result"
    }
   ],
   "source": [
    "tf.python.control_flow_ops = tf\n",
    "backend.image_dim_ordering()"
   ]
  },
  {
   "cell_type": "code",
   "execution_count": 320,
   "metadata": {
    "collapsed": true
   },
   "outputs": [],
   "source": [
    "def save_model(model, model_name):\n",
    "    model.save_weights(model_name+\"weights.keras\", True)\n",
    "    with open(model_name+'model.json', 'w') as outfile:\n",
    "        json.dump(model.to_json(), outfile)"
   ]
  },
  {
   "cell_type": "code",
   "execution_count": 3,
   "metadata": {
    "collapsed": true
   },
   "outputs": [],
   "source": [
    "def make_model_vgg16():\n",
    "    # vgg16\n",
    "    model_vgg16_conv = VGG16(weights='imagenet', include_top=False)\n",
    "\n",
    "    #Create input format)\n",
    "    input = Input(name = 'image_input, shape=(224,224,3))\n",
    "\n",
    "    #Use the generated model \n",
    "    output_vgg16_conv = model_vgg16_conv(input)\n",
    "\n",
    "    # freeze vgg16 conv layers\n",
    "    for layer in model_vgg16_conv.layers:\n",
    "        layer.trainable = False\n",
    "\n",
    "    #model_vgg16_conv.summary()\n",
    "\n",
    "    # Add the fully-connected layers \n",
    "    x = Flatten(name='flatten')(output_vgg16_conv)\n",
    "    x = Dense(256, activation='relu', name='fc1')(x)\n",
    "    x = Dense(256, activation='relu', name='fc2')(x)\n",
    "    x = Dense(1, activation='linear', name='predicton_steering')(x)\n",
    "\n",
    "    # Create model \n",
    "    return Model(input=input, output=x)"
   ]
  },
  {
   "cell_type": "code",
   "execution_count": 262,
   "metadata": {
    "collapsed": false
   },
   "outputs": [],
   "source": [
    "def make_model_nvidia():\n",
    "    # based on this paper:\n",
    "    # http://images.nvidia.com/content/tegra/automotive/images/2016/solutions/pdf/end-to-end-dl-using-px.pdf\n",
    "    input = Input(shape=(80,160,3),name = 'image_input')\n",
    "\n",
    "    x=Convolution2D(24, 5, 5, border_mode=\"valid\", subsample=(2, 2), activation=\"relu\", name='conv1')(input)\n",
    "    x=Convolution2D(36, 5, 5, border_mode=\"valid\", subsample=(2, 2), activation=\"relu\", name='conv2')(x)\n",
    "    x=Convolution2D(48, 5, 5, border_mode=\"valid\", subsample=(2, 2), activation=\"relu\", name='conv3')(x)\n",
    "    x=Convolution2D(64, 3, 3, border_mode=\"valid\", subsample=(1, 1), activation=\"relu\", name='conv4')(x)\n",
    "    x=Convolution2D(64, 3, 3, border_mode=\"valid\", subsample=(1, 1), activation=\"relu\", name='conv5')(x)\n",
    "    x=Flatten(name='flatten')(x) \n",
    "    x=Dense(1164, activation=\"relu\", name='dense1')(x)\n",
    "    x=Dense(100, activation=\"relu\", name='dense2')(x)\n",
    "    x=Dense(50, activation=\"relu\", name='dense3')(x)\n",
    "    x=Dense(10, activation=\"relu\", name='dense4')(x)\n",
    "    x=Dense(1, activation=\"linear\", name='dense5')(x)\n",
    "    \n",
    "    # Create model\n",
    "    return Model(input=input, output=x)"
   ]
  },
  {
   "cell_type": "code",
   "execution_count": 335,
   "metadata": {
    "collapsed": true
   },
   "outputs": [],
   "source": [
    "def make_model_commaai():\n",
    "    model = Sequential()\n",
    "    #model.add(Lambda(lambda x: x/127.5 - 1.,\n",
    "    #        input_shape=(ch, row, col),\n",
    "    #        output_shape=(ch, row, col)))\n",
    "    model.add(Convolution2D(16, 8, 8, subsample=(4, 4), border_mode=\"same\", input_shape = (80,160,3)))\n",
    "    model.add(ELU())\n",
    "    model.add(Convolution2D(32, 5, 5, subsample=(2, 2), border_mode=\"same\"))\n",
    "    model.add(ELU())\n",
    "    model.add(Convolution2D(64, 5, 5, subsample=(2, 2), border_mode=\"same\"))\n",
    "    model.add(Flatten())\n",
    "    model.add(Dropout(.2))\n",
    "    model.add(ELU())\n",
    "    model.add(Dense(512))\n",
    "    model.add(Dropout(.5))\n",
    "    model.add(ELU())\n",
    "    model.add(Dense(1))\n",
    "\n",
    "    #model.compile(optimizer=\"adam\", loss=\"mse\")\n",
    "    return model\n"
   ]
  },
  {
   "cell_type": "code",
   "execution_count": 336,
   "metadata": {
    "collapsed": false
   },
   "outputs": [
    {
     "name": "stdout",
     "output_type": "stream",
     "text": [
      "____________________________________________________________________________________________________\n",
      "Layer (type)                     Output Shape          Param #     Connected to                     \n",
      "====================================================================================================\n",
      "convolution2d_11 (Convolution2D) (None, 20, 40, 16)    3088        convolution2d_input_5[0][0]      \n",
      "____________________________________________________________________________________________________\n",
      "elu_11 (ELU)                     (None, 20, 40, 16)    0           convolution2d_11[0][0]           \n",
      "____________________________________________________________________________________________________\n",
      "convolution2d_12 (Convolution2D) (None, 10, 20, 32)    12832       elu_11[0][0]                     \n",
      "____________________________________________________________________________________________________\n",
      "elu_12 (ELU)                     (None, 10, 20, 32)    0           convolution2d_12[0][0]           \n",
      "____________________________________________________________________________________________________\n",
      "convolution2d_13 (Convolution2D) (None, 5, 10, 64)     51264       elu_12[0][0]                     \n",
      "____________________________________________________________________________________________________\n",
      "flatten_4 (Flatten)              (None, 3200)          0           convolution2d_13[0][0]           \n",
      "____________________________________________________________________________________________________\n",
      "dropout_5 (Dropout)              (None, 3200)          0           flatten_4[0][0]                  \n",
      "____________________________________________________________________________________________________\n",
      "elu_13 (ELU)                     (None, 3200)          0           dropout_5[0][0]                  \n",
      "____________________________________________________________________________________________________\n",
      "dense_5 (Dense)                  (None, 512)           1638912     elu_13[0][0]                     \n",
      "____________________________________________________________________________________________________\n",
      "dropout_6 (Dropout)              (None, 512)           0           dense_5[0][0]                    \n",
      "____________________________________________________________________________________________________\n",
      "elu_14 (ELU)                     (None, 512)           0           dropout_6[0][0]                  \n",
      "____________________________________________________________________________________________________\n",
      "dense_6 (Dense)                  (None, 1)             513         elu_14[0][0]                     \n",
      "====================================================================================================\n",
      "Total params: 1,706,609\n",
      "Trainable params: 1,706,609\n",
      "Non-trainable params: 0\n",
      "____________________________________________________________________________________________________\n"
     ]
    }
   ],
   "source": [
    "my_model=make_model_commaai()\n",
    "my_model.summary()"
   ]
  },
  {
   "cell_type": "code",
   "execution_count": 324,
   "metadata": {
    "collapsed": true
   },
   "outputs": [],
   "source": [
    "base_path = os.getcwd()"
   ]
  },
  {
   "cell_type": "code",
   "execution_count": 325,
   "metadata": {
    "collapsed": true
   },
   "outputs": [],
   "source": [
    "def preprocess_data_log(base_path, csv_file_name, split=0.2):\n",
    "    # read log file\n",
    "    log = pd.read_csv(base_path + '/' + csv_file_name)\n",
    "    # modify img file name column to contain the full path\n",
    "    log['center'] = base_path + '/'+ log['center']\n",
    "    # extract img file names\n",
    "    img_names = log['center'].tolist()\n",
    "    # extract angles\n",
    "    angles = log['steering']\n",
    "    \n",
    "    img_names_train, img_names_test, angles_train, angles_test = train_test_split(img_names, angles, test_size=split, random_state=42)\n",
    "    \n",
    "    return ( list(zip(img_names_train, angles_train)), list(zip(img_names_test, angles_test)) )"
   ]
  },
  {
   "cell_type": "code",
   "execution_count": 326,
   "metadata": {
    "collapsed": false
   },
   "outputs": [],
   "source": [
    "(train_data_list, test_data_list) = preprocess_data_log(base_path + '/data/udacity/data', 'driving_log.csv')\n",
    "#train_data_list[0:3]"
   ]
  },
  {
   "cell_type": "code",
   "execution_count": 337,
   "metadata": {
    "collapsed": false
   },
   "outputs": [],
   "source": [
    "my_model.compile(optimizer='adam', loss='mse', metrics=['accuracy'])\n",
    "#my_model.compile(optimizer='adam', loss='mean_absolute_percentage_error', metrics=['accuracy'])\n",
    "#my_model.compile(optimizer='adam', loss='mse')"
   ]
  },
  {
   "cell_type": "code",
   "execution_count": 338,
   "metadata": {
    "collapsed": true
   },
   "outputs": [],
   "source": [
    "def batch_gen(name, data_list, out_img_size, batch_size):\n",
    "    # data_list is in this form: ['file_name', angle]\n",
    "    # out_img_size is a shape of the output image: (x, y, color)\n",
    "    \n",
    "    # create batch_size np arrays as placeholders for imgages and angles\n",
    "    X_train = np.empty((batch_size,) +  out_img_size, dtype = np.float32)\n",
    "    y_train = np.empty(batch_size, dtype = np.float32)\n",
    "    \n",
    "    # col & rows are reversed for cv2.resize\n",
    "    resize_shape = (out_img_size[1], out_img_size[0])\n",
    "    \n",
    "    while True:\n",
    "        # shuffle data\n",
    "        shuffle(data_list)\n",
    "        for offset in range(0, len(data_list), batch_size):\n",
    "            end = offset + batch_size\n",
    "            batch_subset = data_list[offset:end]\n",
    "            for i, _ in enumerate(batch_subset):\n",
    "                #load image\n",
    "                X_train[i] = (cv2.resize(cv2.imread(batch_subset[i][0]), resize_shape).astype(np.float32))/128. - 1.\n",
    "                #X_train[i] = np.expand_dims(im, axis=0)\n",
    "                # load angle\n",
    "                y_train[i] = batch_subset[i][1]\n",
    "                \n",
    "            batch_X, batch_y = X_train[:len(batch_subset)], y_train[:len(batch_subset)]\n",
    "            #print(name)\n",
    "            yield (batch_X, batch_y)"
   ]
  },
  {
   "cell_type": "code",
   "execution_count": 329,
   "metadata": {
    "collapsed": true
   },
   "outputs": [],
   "source": [
    "#g=batch_gen(out[0:6], (160, 320, 3), 2)"
   ]
  },
  {
   "cell_type": "code",
   "execution_count": 330,
   "metadata": {
    "collapsed": false
   },
   "outputs": [
    {
     "data": {
      "text/plain": [
       "6428"
      ]
     },
     "execution_count": 330,
     "metadata": {},
     "output_type": "execute_result"
    }
   ],
   "source": [
    "#(im, a) = next(g)\n",
    "len(train_data_list)"
   ]
  },
  {
   "cell_type": "code",
   "execution_count": 331,
   "metadata": {
    "collapsed": false
   },
   "outputs": [
    {
     "data": {
      "text/plain": [
       "1608"
      ]
     },
     "execution_count": 331,
     "metadata": {},
     "output_type": "execute_result"
    }
   ],
   "source": [
    "len(test_data_list)"
   ]
  },
  {
   "cell_type": "code",
   "execution_count": 277,
   "metadata": {
    "collapsed": false
   },
   "outputs": [],
   "source": [
    "#plt.imshow(cv2.cvtColor((im[0]*255.+128.).astype(np.uint8), cv2.COLOR_BGR2RGB))\n",
    "#im0 = cv2.resize(cv2.imread(train_data_list[0][0]), (224, 224))\n",
    "#plt.imshow(cv2.cvtColor(im0, cv2.COLOR_BGR2RGB))"
   ]
  },
  {
   "cell_type": "code",
   "execution_count": 278,
   "metadata": {
    "collapsed": false
   },
   "outputs": [],
   "source": [
    "class printbatch(callbacks.Callback):\n",
    "    def on_batch_end(self, epoch, logs={}):\n",
    "        print(logs)\n",
    "        \n",
    "pb = printbatch()"
   ]
  },
  {
   "cell_type": "code",
   "execution_count": 339,
   "metadata": {
    "collapsed": true
   },
   "outputs": [],
   "source": [
    "train_gen = batch_gen(\"train_gen\", train_data_list, (80, 160, 3), 64)\n",
    "test_gen = batch_gen(\"test_gen\", test_data_list, (80, 160, 3), 64)"
   ]
  },
  {
   "cell_type": "code",
   "execution_count": null,
   "metadata": {
    "collapsed": false,
    "scrolled": true
   },
   "outputs": [
    {
     "name": "stdout",
     "output_type": "stream",
     "text": [
      "Epoch 1/200\n",
      "6428/6428 [==============================] - 15s - loss: 0.0166 - acc: 0.5352 - val_loss: 0.0116 - val_acc: 0.5709\n",
      "Epoch 2/200\n",
      "6428/6428 [==============================] - 14s - loss: 0.0112 - acc: 0.5356 - val_loss: 0.0107 - val_acc: 0.5709\n",
      "Epoch 3/200\n",
      "6428/6428 [==============================] - 14s - loss: 0.0097 - acc: 0.5356 - val_loss: 0.0108 - val_acc: 0.5709\n",
      "Epoch 4/200\n",
      "6428/6428 [==============================] - 14s - loss: 0.0084 - acc: 0.5356 - val_loss: 0.0118 - val_acc: 0.5709\n",
      "Epoch 5/200\n",
      "6428/6428 [==============================] - 14s - loss: 0.0079 - acc: 0.5356 - val_loss: 0.0113 - val_acc: 0.5709\n",
      "Epoch 6/200\n",
      "6428/6428 [==============================] - 14s - loss: 0.0075 - acc: 0.5356 - val_loss: 0.0106 - val_acc: 0.5709\n",
      "Epoch 7/200\n",
      "6428/6428 [==============================] - 14s - loss: 0.0071 - acc: 0.5356 - val_loss: 0.0113 - val_acc: 0.5709\n",
      "Epoch 8/200\n",
      "6428/6428 [==============================] - 14s - loss: 0.0067 - acc: 0.5359 - val_loss: 0.0110 - val_acc: 0.5709\n",
      "Epoch 9/200\n",
      "6428/6428 [==============================] - 14s - loss: 0.0065 - acc: 0.5356 - val_loss: 0.0114 - val_acc: 0.5709\n",
      "Epoch 10/200\n",
      "6428/6428 [==============================] - 14s - loss: 0.0061 - acc: 0.5356 - val_loss: 0.0111 - val_acc: 0.5709\n",
      "Epoch 11/200\n",
      "6428/6428 [==============================] - 14s - loss: 0.0060 - acc: 0.5359 - val_loss: 0.0129 - val_acc: 0.5709\n",
      "Epoch 12/200\n",
      "6428/6428 [==============================] - 14s - loss: 0.0058 - acc: 0.5356 - val_loss: 0.0117 - val_acc: 0.5709\n",
      "Epoch 13/200\n",
      "6428/6428 [==============================] - 14s - loss: 0.0055 - acc: 0.5359 - val_loss: 0.0121 - val_acc: 0.5709\n",
      "Epoch 14/200\n",
      "6428/6428 [==============================] - 14s - loss: 0.0056 - acc: 0.5359 - val_loss: 0.0113 - val_acc: 0.5709\n",
      "Epoch 15/200\n",
      "6428/6428 [==============================] - 14s - loss: 0.0056 - acc: 0.5358 - val_loss: 0.0128 - val_acc: 0.5709\n",
      "Epoch 16/200\n",
      "6428/6428 [==============================] - 14s - loss: 0.0053 - acc: 0.5359 - val_loss: 0.0142 - val_acc: 0.5709\n",
      "Epoch 17/200\n",
      "6428/6428 [==============================] - 14s - loss: 0.0054 - acc: 0.5359 - val_loss: 0.0126 - val_acc: 0.5709\n",
      "Epoch 18/200\n",
      "6428/6428 [==============================] - 14s - loss: 0.0054 - acc: 0.5358 - val_loss: 0.0144 - val_acc: 0.5709\n",
      "Epoch 19/200\n",
      "6428/6428 [==============================] - 14s - loss: 0.0052 - acc: 0.5359 - val_loss: 0.0123 - val_acc: 0.5709\n",
      "Epoch 20/200\n",
      "6428/6428 [==============================] - 14s - loss: 0.0048 - acc: 0.5359 - val_loss: 0.0122 - val_acc: 0.5709\n",
      "Epoch 21/200\n",
      "6428/6428 [==============================] - 14s - loss: 0.0048 - acc: 0.5359 - val_loss: 0.0142 - val_acc: 0.5709\n",
      "Epoch 22/200\n",
      "6428/6428 [==============================] - 14s - loss: 0.0050 - acc: 0.5359 - val_loss: 0.0132 - val_acc: 0.5709\n",
      "Epoch 23/200\n",
      "6428/6428 [==============================] - 14s - loss: 0.0046 - acc: 0.5359 - val_loss: 0.0130 - val_acc: 0.5709\n",
      "Epoch 24/200\n",
      "6428/6428 [==============================] - 14s - loss: 0.0044 - acc: 0.5359 - val_loss: 0.0134 - val_acc: 0.5709\n",
      "Epoch 25/200\n",
      "6428/6428 [==============================] - 14s - loss: 0.0047 - acc: 0.5359 - val_loss: 0.0137 - val_acc: 0.5709\n",
      "Epoch 26/200\n",
      "6428/6428 [==============================] - 14s - loss: 0.0044 - acc: 0.5359 - val_loss: 0.0125 - val_acc: 0.5709\n",
      "Epoch 27/200\n",
      "6428/6428 [==============================] - 14s - loss: 0.0043 - acc: 0.5359 - val_loss: 0.0154 - val_acc: 0.5709\n",
      "Epoch 28/200\n",
      "6428/6428 [==============================] - 14s - loss: 0.0043 - acc: 0.5359 - val_loss: 0.0144 - val_acc: 0.5709\n",
      "Epoch 29/200\n",
      "6428/6428 [==============================] - 14s - loss: 0.0042 - acc: 0.5359 - val_loss: 0.0150 - val_acc: 0.5709\n",
      "Epoch 30/200\n",
      "6428/6428 [==============================] - 14s - loss: 0.0044 - acc: 0.5359 - val_loss: 0.0155 - val_acc: 0.5703\n",
      "Epoch 31/200\n",
      "6428/6428 [==============================] - 14s - loss: 0.0042 - acc: 0.5359 - val_loss: 0.0140 - val_acc: 0.5709\n",
      "Epoch 32/200\n",
      "6428/6428 [==============================] - 14s - loss: 0.0039 - acc: 0.5359 - val_loss: 0.0155 - val_acc: 0.5709\n",
      "Epoch 33/200\n",
      "6428/6428 [==============================] - 14s - loss: 0.0038 - acc: 0.5359 - val_loss: 0.0140 - val_acc: 0.5709\n",
      "Epoch 34/200\n",
      "6428/6428 [==============================] - 14s - loss: 0.0038 - acc: 0.5359 - val_loss: 0.0172 - val_acc: 0.5709\n",
      "Epoch 35/200\n",
      "6428/6428 [==============================] - 14s - loss: 0.0043 - acc: 0.5359 - val_loss: 0.0161 - val_acc: 0.5709\n",
      "Epoch 36/200\n",
      "6428/6428 [==============================] - 14s - loss: 0.0036 - acc: 0.5359 - val_loss: 0.0153 - val_acc: 0.5709\n",
      "Epoch 37/200\n",
      "6428/6428 [==============================] - 14s - loss: 0.0037 - acc: 0.5359 - val_loss: 0.0142 - val_acc: 0.5709\n",
      "Epoch 38/200\n",
      "6428/6428 [==============================] - 14s - loss: 0.0035 - acc: 0.5359 - val_loss: 0.0147 - val_acc: 0.5709\n",
      "Epoch 39/200\n",
      "6428/6428 [==============================] - 14s - loss: 0.0038 - acc: 0.5359 - val_loss: 0.0151 - val_acc: 0.5709\n",
      "Epoch 40/200\n",
      "6428/6428 [==============================] - 14s - loss: 0.0036 - acc: 0.5359 - val_loss: 0.0161 - val_acc: 0.5709\n",
      "Epoch 41/200\n",
      "6428/6428 [==============================] - 14s - loss: 0.0035 - acc: 0.5359 - val_loss: 0.0145 - val_acc: 0.5709\n",
      "Epoch 42/200\n",
      "6428/6428 [==============================] - 14s - loss: 0.0032 - acc: 0.5359 - val_loss: 0.0195 - val_acc: 0.5703\n",
      "Epoch 43/200\n",
      "6428/6428 [==============================] - 14s - loss: 0.0033 - acc: 0.5359 - val_loss: 0.0164 - val_acc: 0.5709\n",
      "Epoch 44/200\n",
      "6428/6428 [==============================] - 14s - loss: 0.0034 - acc: 0.5359 - val_loss: 0.0170 - val_acc: 0.5709\n",
      "Epoch 45/200\n",
      "6428/6428 [==============================] - 14s - loss: 0.0031 - acc: 0.5359 - val_loss: 0.0153 - val_acc: 0.5709\n",
      "Epoch 46/200\n",
      "6428/6428 [==============================] - 14s - loss: 0.0030 - acc: 0.5359 - val_loss: 0.0153 - val_acc: 0.5709\n",
      "Epoch 47/200\n",
      "6428/6428 [==============================] - 14s - loss: 0.0035 - acc: 0.5359 - val_loss: 0.0144 - val_acc: 0.5709\n",
      "Epoch 48/200\n",
      "6428/6428 [==============================] - 14s - loss: 0.0033 - acc: 0.5358 - val_loss: 0.0153 - val_acc: 0.5709\n",
      "Epoch 49/200\n",
      "6428/6428 [==============================] - 14s - loss: 0.0033 - acc: 0.5359 - val_loss: 0.0178 - val_acc: 0.5709\n",
      "Epoch 50/200\n",
      "6428/6428 [==============================] - 14s - loss: 0.0032 - acc: 0.5359 - val_loss: 0.0145 - val_acc: 0.5709\n",
      "Epoch 51/200\n",
      "6428/6428 [==============================] - 14s - loss: 0.0033 - acc: 0.5359 - val_loss: 0.0158 - val_acc: 0.5709\n",
      "Epoch 52/200\n",
      "6428/6428 [==============================] - 14s - loss: 0.0029 - acc: 0.5359 - val_loss: 0.0156 - val_acc: 0.5709\n",
      "Epoch 53/200\n",
      "6428/6428 [==============================] - 14s - loss: 0.0030 - acc: 0.5359 - val_loss: 0.0165 - val_acc: 0.5709\n",
      "Epoch 54/200\n",
      "6428/6428 [==============================] - 14s - loss: 0.0030 - acc: 0.5359 - val_loss: 0.0161 - val_acc: 0.5709\n",
      "Epoch 55/200\n",
      "6428/6428 [==============================] - 14s - loss: 0.0030 - acc: 0.5359 - val_loss: 0.0140 - val_acc: 0.5709\n",
      "Epoch 56/200\n",
      "6428/6428 [==============================] - 14s - loss: 0.0028 - acc: 0.5359 - val_loss: 0.0151 - val_acc: 0.5703\n",
      "Epoch 57/200\n",
      "6428/6428 [==============================] - 14s - loss: 0.0030 - acc: 0.5359 - val_loss: 0.0162 - val_acc: 0.5709\n",
      "Epoch 58/200\n",
      "6428/6428 [==============================] - 14s - loss: 0.0030 - acc: 0.5359 - val_loss: 0.0146 - val_acc: 0.5709\n",
      "Epoch 59/200\n",
      "6428/6428 [==============================] - 14s - loss: 0.0028 - acc: 0.5359 - val_loss: 0.0151 - val_acc: 0.5709\n",
      "Epoch 60/200\n",
      "6428/6428 [==============================] - 14s - loss: 0.0032 - acc: 0.5359 - val_loss: 0.0143 - val_acc: 0.5709\n",
      "Epoch 61/200\n",
      "6428/6428 [==============================] - 14s - loss: 0.0035 - acc: 0.5358 - val_loss: 0.0140 - val_acc: 0.5709\n",
      "Epoch 62/200\n",
      "6428/6428 [==============================] - 14s - loss: 0.0041 - acc: 0.5359 - val_loss: 0.0182 - val_acc: 0.5709\n",
      "Epoch 63/200\n",
      "6428/6428 [==============================] - 14s - loss: 0.0037 - acc: 0.5359 - val_loss: 0.0139 - val_acc: 0.5709\n",
      "Epoch 64/200\n",
      "1664/6428 [======>.......................] - ETA: 8s - loss: 0.0037 - acc: 0.5403"
     ]
    }
   ],
   "source": [
    "history = my_model.fit_generator(\n",
    "    generator=train_gen, \n",
    "    validation_data=test_gen, \n",
    "    nb_val_samples=len(test_data_list), \n",
    "    samples_per_epoch=len(train_data_list), \n",
    "    nb_epoch=200,\n",
    "    max_q_size=1)"
   ]
  },
  {
   "cell_type": "code",
   "execution_count": 321,
   "metadata": {
    "collapsed": false
   },
   "outputs": [],
   "source": [
    "save_model(my_model, 'first_try')"
   ]
  },
  {
   "cell_type": "code",
   "execution_count": 236,
   "metadata": {
    "collapsed": true
   },
   "outputs": [],
   "source": [
    "train_gen = batch_gen(\"train_gen\", train_data_list, (80, 160, 3), 1)"
   ]
  },
  {
   "cell_type": "code",
   "execution_count": 237,
   "metadata": {
    "collapsed": false
   },
   "outputs": [],
   "source": [
    "im, t = next(train_gen)"
   ]
  },
  {
   "cell_type": "code",
   "execution_count": 250,
   "metadata": {
    "collapsed": false
   },
   "outputs": [],
   "source": [
    "#im[0]"
   ]
  },
  {
   "cell_type": "code",
   "execution_count": 196,
   "metadata": {
    "collapsed": false
   },
   "outputs": [],
   "source": [
    "im0 = (im[0]*128.+128.).astype(np.uint8)"
   ]
  },
  {
   "cell_type": "code",
   "execution_count": null,
   "metadata": {
    "collapsed": false
   },
   "outputs": [],
   "source": [
    "train_gen = batch_gen(\"train_gen\", train_data_list, (80, 160, 3), 25)"
   ]
  },
  {
   "cell_type": "code",
   "execution_count": 312,
   "metadata": {
    "collapsed": false
   },
   "outputs": [],
   "source": [
    "im, s = next(train_gen)"
   ]
  },
  {
   "cell_type": "code",
   "execution_count": 313,
   "metadata": {
    "collapsed": false
   },
   "outputs": [
    {
     "data": {
      "text/plain": [
       "array([[ 0.02251387],\n",
       "       [-0.01097528],\n",
       "       [-0.07046968],\n",
       "       [ 0.01269822],\n",
       "       [-0.02309453],\n",
       "       [ 0.06392274],\n",
       "       [ 0.11117297],\n",
       "       [ 0.07657015],\n",
       "       [ 0.11020656],\n",
       "       [ 0.04373782],\n",
       "       [-0.08349971],\n",
       "       [ 0.04887722],\n",
       "       [ 0.03102045],\n",
       "       [ 0.10972355],\n",
       "       [ 0.07347102],\n",
       "       [-0.01967359],\n",
       "       [-0.05685198],\n",
       "       [ 0.00174202],\n",
       "       [ 0.04377614],\n",
       "       [-0.16624372],\n",
       "       [ 0.08014531],\n",
       "       [ 0.03017185],\n",
       "       [-0.04866779],\n",
       "       [ 0.05054331],\n",
       "       [-0.00949066]], dtype=float32)"
      ]
     },
     "execution_count": 313,
     "metadata": {},
     "output_type": "execute_result"
    }
   ],
   "source": [
    "my_model.predict(im)"
   ]
  },
  {
   "cell_type": "code",
   "execution_count": 314,
   "metadata": {
    "collapsed": false
   },
   "outputs": [
    {
     "data": {
      "text/plain": [
       "array([ 0.        ,  0.        ,  0.        ,  0.        , -0.135712  ,\n",
       "        0.        ,  0.100034  ,  0.1287396 ,  0.1287396 ,  0.01391724,\n",
       "        0.        ,  0.        ,  0.        ,  0.0617599 ,  0.1287396 ,\n",
       "        0.        ,  0.        ,  0.        ,  0.        , -0.06925154,\n",
       "        0.        , -0.06925154,  0.        ,  0.        ,  0.01391724], dtype=float32)"
      ]
     },
     "execution_count": 314,
     "metadata": {},
     "output_type": "execute_result"
    }
   ],
   "source": [
    "s"
   ]
  },
  {
   "cell_type": "code",
   "execution_count": null,
   "metadata": {
    "collapsed": true
   },
   "outputs": [],
   "source": []
  }
 ],
 "metadata": {
  "kernelspec": {
   "display_name": "Python 3",
   "language": "python",
   "name": "python3"
  },
  "language_info": {
   "codemirror_mode": {
    "name": "ipython",
    "version": 3
   },
   "file_extension": ".py",
   "mimetype": "text/x-python",
   "name": "python",
   "nbconvert_exporter": "python",
   "pygments_lexer": "ipython3",
   "version": "3.5.2"
  },
  "widgets": {
   "state": {},
   "version": "1.1.2"
  }
 },
 "nbformat": 4,
 "nbformat_minor": 2
}

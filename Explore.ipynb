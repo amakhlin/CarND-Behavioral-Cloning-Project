{
 "cells": [
  {
   "cell_type": "code",
   "execution_count": 1,
   "metadata": {
    "collapsed": false
   },
   "outputs": [
    {
     "name": "stderr",
     "output_type": "stream",
     "text": [
      "Using TensorFlow backend.\n"
     ]
    }
   ],
   "source": [
    "from keras.applications.vgg16 import VGG16\n",
    "from keras.preprocessing import image\n",
    "from keras.applications.vgg16 import preprocess_input\n",
    "from keras.layers import Input, Flatten, Dense\n",
    "from keras.models import Model\n",
    "from keras import backend\n",
    "from keras import callbacks\n",
    "import numpy as np\n",
    "from sklearn.model_selection import train_test_split\n",
    "import pandas as pd\n",
    "import os\n",
    "import cv2\n",
    "import matplotlib.image as mpimg\n",
    "from random import shuffle\n",
    "import matplotlib.pyplot as plt\n",
    "import matplotlib.image as mpimg\n",
    "%matplotlib inline"
   ]
  },
  {
   "cell_type": "code",
   "execution_count": 2,
   "metadata": {
    "collapsed": false
   },
   "outputs": [
    {
     "data": {
      "text/plain": [
       "'tf'"
      ]
     },
     "execution_count": 2,
     "metadata": {},
     "output_type": "execute_result"
    }
   ],
   "source": [
    "backend.image_dim_ordering()"
   ]
  },
  {
   "cell_type": "code",
   "execution_count": 3,
   "metadata": {
    "collapsed": true
   },
   "outputs": [],
   "source": [
    "def make_model_vgg16():\n",
    "    # vgg16\n",
    "    model_vgg16_conv = VGG16(weights='imagenet', include_top=False)\n",
    "\n",
    "    #Create input format)\n",
    "    input = Input(name = 'image_input, shape=(224,224,3))\n",
    "\n",
    "    #Use the generated model \n",
    "    output_vgg16_conv = model_vgg16_conv(input)\n",
    "\n",
    "    # freeze vgg16 conv layers\n",
    "    for layer in model_vgg16_conv.layers:\n",
    "        layer.trainable = False\n",
    "\n",
    "    #model_vgg16_conv.summary()\n",
    "\n",
    "    # Add the fully-connected layers \n",
    "    x = Flatten(name='flatten')(output_vgg16_conv)\n",
    "    x = Dense(256, activation='relu', name='fc1')(x)\n",
    "    x = Dense(256, activation='relu', name='fc2')(x)\n",
    "    x = Dense(1, activation='linear', name='predicton_steering')(x)\n",
    "\n",
    "    # Create model \n",
    "    return Model(input=input, output=x)"
   ]
  },
  {
   "cell_type": "code",
   "execution_count": null,
   "metadata": {
    "collapsed": true
   },
   "outputs": [],
   "source": [
    "def make_model_nvidia():\n",
    "    # based on this paper:\n",
    "    # http://images.nvidia.com/content/tegra/automotive/images/2016/solutions/pdf/end-to-end-dl-using-px.pdf\n",
    "    input = Input(shape=(224,224,3),name = 'image_input')\n",
    "\n",
    "    x = Conv2D(name='conv1', 24, 5, 5, border_mode=\"valid\", subsample=(2, 2), activation=\"relu\")(input)\n",
    "    x = Conv2D(name='conv2'36, 5, 5, border_mode=\"valid\", subsample=(2, 2), activation=\"relu\")(x)\n",
    "    x = Conv2D(name='conv3'48, 5, 5, border_mode=\"valid\", subsample=(2, 2), activation=\"relu\")(x)\n",
    "    x = Conv2D(name='conv4'64, 3, 3, border_mode=\"valid\", subsample=(1, 1), activation=\"relu\")(x)\n",
    "    x = Conv2D(name='conv5'64, 3, 3, border_mode=\"valid\", subsample=(1, 1), activation=\"relu\")(x)\n",
    "    x = Flatten(name='flatten')(x) \n",
    "    x = Dense(1164, activation=\"relu\")(x))\n",
    "    x = Dense(100, activation=\"relu\")(x)\n",
    "    x = Dense(50, activation=\"relu\")(x)\n",
    "    x = Dense(10, activation=\"relu\")(x)\n",
    "    x = Dense(1, activation=\"linear\")(x)\n",
    "    \n",
    "    # Create model\n",
    "     return Model(input=input, output=x)"
   ]
  },
  {
   "cell_type": "code",
   "execution_count": 4,
   "metadata": {
    "collapsed": false
   },
   "outputs": [
    {
     "name": "stdout",
     "output_type": "stream",
     "text": [
      "Downloading data from https://github.com/fchollet/deep-learning-models/releases/download/v0.1/vgg16_weights_tf_dim_ordering_tf_kernels_notop.h5\n",
      "58892288/58889256 [==============================] - 3s     \n"
     ]
    }
   ],
   "source": [
    "my_model=make_model()"
   ]
  },
  {
   "cell_type": "code",
   "execution_count": 5,
   "metadata": {
    "collapsed": true
   },
   "outputs": [],
   "source": [
    "base_path = os.getcwd()"
   ]
  },
  {
   "cell_type": "code",
   "execution_count": 6,
   "metadata": {
    "collapsed": true
   },
   "outputs": [],
   "source": [
    "def preprocess_data_log(base_path, csv_file_name, split=0.2):\n",
    "    # read log file\n",
    "    log = pd.read_csv(base_path + '/' + csv_file_name)\n",
    "    # modify img file name column to contain the full path\n",
    "    log['center'] = base_path + '/'+ log['center']\n",
    "    # extract img file names\n",
    "    img_names = log['center'].tolist()\n",
    "    # extract angles\n",
    "    angles = log['steering']\n",
    "    \n",
    "    img_names_train, img_names_test, angles_train, angles_test = train_test_split(img_names, angles, test_size=split, random_state=42)\n",
    "    \n",
    "    return ( list(zip(img_names_train, angles_train)), list(zip(img_names_test, angles_test)) )"
   ]
  },
  {
   "cell_type": "code",
   "execution_count": 9,
   "metadata": {
    "collapsed": false
   },
   "outputs": [],
   "source": [
    "(train_data_list, test_data_list) = preprocess_data_log(base_path + '/data/udacity/data', 'driving_log.csv')\n",
    "#train_data_list[0:3]"
   ]
  },
  {
   "cell_type": "code",
   "execution_count": 10,
   "metadata": {
    "collapsed": false
   },
   "outputs": [],
   "source": [
    "my_model.compile(optimizer='adam', loss='mean_squared_error', metrics=['accuracy'])"
   ]
  },
  {
   "cell_type": "code",
   "execution_count": 11,
   "metadata": {
    "collapsed": true
   },
   "outputs": [],
   "source": [
    "def batch_gen(name, data_list, out_img_size, batch_size):\n",
    "    # data_list is in this form: ['file_name', angle]\n",
    "    # out_img_size is a shape of the output image: (x, y, color)\n",
    "    \n",
    "    # create batch_size np arrays as placeholders for imgages and angles\n",
    "    X_train = np.empty((batch_size,) +  out_img_size, dtype = np.float64)\n",
    "    y_train = np.empty(batch_size, dtype = np.float32)\n",
    "    \n",
    "    while True:\n",
    "        # shuffle data\n",
    "        shuffle(data_list)\n",
    "        for offset in range(0, len(data_list), batch_size):\n",
    "            end = offset + batch_size\n",
    "            batch_subset = data_list[offset:end]\n",
    "            for i, _ in enumerate(batch_subset):\n",
    "                #load image\n",
    "                X_train[i] = cv2.resize(cv2.imread(batch_subset[i][0]), (224, 224)).astype(np.float32) - 128.\n",
    "                #X_train[i] = im.transpose((2,0,1))\n",
    "                #X_train[i] = np.expand_dims(im, axis=0)\n",
    "                # load angle\n",
    "                y_train[i] = batch_subset[i][1]\n",
    "                \n",
    "            batch_X, batch_y = X_train[:len(batch_subset)], y_train[:len(batch_subset)]\n",
    "            #print(name)\n",
    "            yield (batch_X, batch_y)"
   ]
  },
  {
   "cell_type": "code",
   "execution_count": 12,
   "metadata": {
    "collapsed": true
   },
   "outputs": [],
   "source": [
    "#g=batch_gen(out[0:6], (160, 320, 3), 2)"
   ]
  },
  {
   "cell_type": "code",
   "execution_count": 13,
   "metadata": {
    "collapsed": false
   },
   "outputs": [
    {
     "data": {
      "text/plain": [
       "6428"
      ]
     },
     "execution_count": 13,
     "metadata": {},
     "output_type": "execute_result"
    }
   ],
   "source": [
    "#(im, a) = next(g)\n",
    "len(train_data_list)"
   ]
  },
  {
   "cell_type": "code",
   "execution_count": 14,
   "metadata": {
    "collapsed": false
   },
   "outputs": [
    {
     "data": {
      "text/plain": [
       "1608"
      ]
     },
     "execution_count": 14,
     "metadata": {},
     "output_type": "execute_result"
    }
   ],
   "source": [
    "len(test_data_list)"
   ]
  },
  {
   "cell_type": "code",
   "execution_count": 15,
   "metadata": {
    "collapsed": false
   },
   "outputs": [],
   "source": [
    "#plt.imshow(cv2.cvtColor((im[0]*255.+128.).astype(np.uint8), cv2.COLOR_BGR2RGB))\n",
    "#im0 = cv2.resize(cv2.imread(train_data_list[0][0]), (224, 224))\n",
    "#plt.imshow(cv2.cvtColor(im0, cv2.COLOR_BGR2RGB))"
   ]
  },
  {
   "cell_type": "code",
   "execution_count": 16,
   "metadata": {
    "collapsed": false
   },
   "outputs": [],
   "source": [
    "class printbatch(callbacks.Callback):\n",
    "    def on_batch_end(self, epoch, logs={}):\n",
    "        print(logs)\n",
    "        \n",
    "pb = printbatch()"
   ]
  },
  {
   "cell_type": "code",
   "execution_count": 22,
   "metadata": {
    "collapsed": true
   },
   "outputs": [],
   "source": [
    "train_gen = batch_gen(\"train_gen\", train_data_list, (224, 224, 3), 64)\n",
    "test_gen = batch_gen(\"test_gen\", test_data_list, (224, 224, 3), 64)"
   ]
  },
  {
   "cell_type": "code",
   "execution_count": 23,
   "metadata": {
    "collapsed": false,
    "scrolled": true
   },
   "outputs": [
    {
     "name": "stdout",
     "output_type": "stream",
     "text": [
      "Epoch 1/10\n",
      "6428/6428 [==============================] - 266s - loss: 21.6338 - acc: 0.1024 - val_loss: 0.9705 - val_acc: 0.2239\n",
      "Epoch 2/10\n",
      "6428/6428 [==============================] - 253s - loss: 1.2239 - acc: 0.1979 - val_loss: 0.9961 - val_acc: 0.2276\n",
      "Epoch 3/10\n",
      "6428/6428 [==============================] - 253s - loss: 0.8866 - acc: 0.2178 - val_loss: 0.7317 - val_acc: 0.2338\n",
      "Epoch 4/10\n",
      "6428/6428 [==============================] - 253s - loss: 1.1860 - acc: 0.1934 - val_loss: 1.2134 - val_acc: 0.1561\n",
      "Epoch 5/10\n",
      "6428/6428 [==============================] - 253s - loss: 5.2690 - acc: 0.1335 - val_loss: 2.5210 - val_acc: 0.1275\n",
      "Epoch 6/10\n",
      "6428/6428 [==============================] - 253s - loss: 2.6741 - acc: 0.1520 - val_loss: 1.9546 - val_acc: 0.0435\n",
      "Epoch 7/10\n",
      "6428/6428 [==============================] - 253s - loss: 0.8192 - acc: 0.2307 - val_loss: 0.6778 - val_acc: 0.1915\n",
      "Epoch 8/10\n",
      "6428/6428 [==============================] - 253s - loss: 1.0492 - acc: 0.2288 - val_loss: 1.3132 - val_acc: 0.0746\n",
      "Epoch 9/10\n",
      "6428/6428 [==============================] - 253s - loss: 2.0462 - acc: 0.1703 - val_loss: 2.0670 - val_acc: 0.1076\n",
      "Epoch 10/10\n",
      "6428/6428 [==============================] - 253s - loss: 1.2192 - acc: 0.2054 - val_loss: 0.9684 - val_acc: 0.1611\n"
     ]
    }
   ],
   "source": [
    "history = my_model.fit_generator(\n",
    "    generator=train_gen, \n",
    "    validation_data=test_gen, \n",
    "    nb_val_samples=len(test_data_list), \n",
    "    samples_per_epoch=len(train_data_list), \n",
    "    nb_epoch=10,\n",
    "    max_q_size=1)"
   ]
  },
  {
   "cell_type": "code",
   "execution_count": null,
   "metadata": {
    "collapsed": true
   },
   "outputs": [],
   "source": []
  }
 ],
 "metadata": {
  "kernelspec": {
   "display_name": "Python 3",
   "language": "python",
   "name": "python3"
  },
  "language_info": {
   "codemirror_mode": {
    "name": "ipython",
    "version": 3
   },
   "file_extension": ".py",
   "mimetype": "text/x-python",
   "name": "python",
   "nbconvert_exporter": "python",
   "pygments_lexer": "ipython3",
   "version": "3.5.2"
  },
  "widgets": {
   "state": {},
   "version": "1.1.2"
  }
 },
 "nbformat": 4,
 "nbformat_minor": 2
}
